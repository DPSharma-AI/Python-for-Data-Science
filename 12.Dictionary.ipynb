{
 "cells": [
  {
   "cell_type": "markdown",
   "metadata": {
    "colab_type": "text",
    "id": "s6wRWQbM8YWK"
   },
   "source": [
    "# Dictionary-Theoretical Concepts\n",
    "\n",
    "- We can use List, Tuple and Set to represent a group of individual objects as a single entity.\n",
    "- If we want to represent a group of objects as key-value pairs then we should go for Dictionary.\n",
    "\n",
    "        Eg:\n",
    "            - rollno ---- name\n",
    "            - phone number -- address\n",
    "            - ipaddress --- domain name\n",
    "            \n",
    "- Duplicate keys are not allowed but values can be duplicated.\n",
    "- Heterogeneous objects are allowed for both keys and values.\n",
    "- List object is not allowed as a key.\n",
    "- Insertion order is preserved after python 3.6.\n",
    "- Dictionaries are mutable\n",
    "- Dictionaries are dynamic\n",
    "- indexing and slicing concepts are not applicable"
   ]
  },
  {
   "cell_type": "markdown",
   "metadata": {
    "colab_type": "text",
    "id": "CQgSdaRE8YWP"
   },
   "source": [
    "i.e.  Python dictionary is an unordered collection of items. While other compound data types have only value as an element, a dictionary has a key: value pair."
   ]
  },
  {
   "cell_type": "markdown",
   "metadata": {
    "colab_type": "text",
    "id": "QNZdRerx8YWQ"
   },
   "source": [
    "# Dict Creation"
   ]
  },
  {
   "cell_type": "code",
   "execution_count": 1,
   "metadata": {
    "ExecuteTime": {
     "end_time": "2021-02-06T12:10:06.369925Z",
     "start_time": "2021-02-06T12:10:06.356960Z"
    },
    "colab": {},
    "colab_type": "code",
    "id": "PhZ00ce88YWS",
    "outputId": "08e7f3c2-24d0-4aab-8869-9c199552f206"
   },
   "outputs": [
    {
     "name": "stdout",
     "output_type": "stream",
     "text": [
      "{1: 'abc', 2: 'xyz'}\n",
      "{'name': 'sharma', 1: ['abc', 'xyz']}\n",
      "{1: 'abc', 2: 'xyz'}\n"
     ]
    }
   ],
   "source": [
    "#empty dictionary\n",
    "my_dict = {}\n",
    "\n",
    "#dictionary with integer keys\n",
    "my_dict = {1: 'abc', 2: 'xyz'}\n",
    "print(my_dict)\n",
    "\n",
    "#dictionary with mixed keys\n",
    "my_dict = {'name': 'sharma', 1: ['abc', 'xyz']}\n",
    "print(my_dict)\n",
    "\n",
    "\n",
    "#create empty dictionary using dict()\n",
    "my_dict = dict()\n",
    "\n",
    "my_dict = dict([(1, 'abc'), (2, 'xyz')])    #create a dict with list of tuples\n",
    "print(my_dict)"
   ]
  },
  {
   "cell_type": "markdown",
   "metadata": {
    "colab_type": "text",
    "id": "CsZFln1r8YWf"
   },
   "source": [
    "# Dict Access"
   ]
  },
  {
   "cell_type": "code",
   "execution_count": 2,
   "metadata": {
    "ExecuteTime": {
     "end_time": "2021-02-06T12:10:06.464673Z",
     "start_time": "2021-02-06T12:10:06.373915Z"
    },
    "colab": {},
    "colab_type": "code",
    "id": "nCQLFclM8YWh",
    "outputId": "af38adcd-3f05-4018-9912-8e9abe57e92d"
   },
   "outputs": [
    {
     "name": "stdout",
     "output_type": "stream",
     "text": [
      "sharma\n"
     ]
    }
   ],
   "source": [
    "my_dict = {'name': 'sharma', 'age': 27, 'address': 'Agra'}\n",
    "\n",
    "#get name\n",
    "print(my_dict['name'])"
   ]
  },
  {
   "cell_type": "code",
   "execution_count": 3,
   "metadata": {
    "ExecuteTime": {
     "end_time": "2021-02-06T12:10:06.795211Z",
     "start_time": "2021-02-06T12:10:06.468661Z"
    },
    "colab": {},
    "colab_type": "code",
    "id": "BYsuLB548YWl",
    "outputId": "d92d3779-af54-41f6-e0c7-7f2ce831e7e4"
   },
   "outputs": [
    {
     "ename": "KeyError",
     "evalue": "'degree'",
     "output_type": "error",
     "traceback": [
      "\u001b[1;31m---------------------------------------------------------------------------\u001b[0m",
      "\u001b[1;31mKeyError\u001b[0m                                  Traceback (most recent call last)",
      "\u001b[1;32m<ipython-input-3-ac4c061783ba>\u001b[0m in \u001b[0;36m<module>\u001b[1;34m\u001b[0m\n\u001b[0;32m      1\u001b[0m \u001b[1;31m#if key is not present it gives KeyError\u001b[0m\u001b[1;33m\u001b[0m\u001b[1;33m\u001b[0m\u001b[1;33m\u001b[0m\u001b[0m\n\u001b[1;32m----> 2\u001b[1;33m \u001b[0mprint\u001b[0m\u001b[1;33m(\u001b[0m\u001b[0mmy_dict\u001b[0m\u001b[1;33m[\u001b[0m\u001b[1;34m'degree'\u001b[0m\u001b[1;33m]\u001b[0m\u001b[1;33m)\u001b[0m\u001b[1;33m\u001b[0m\u001b[1;33m\u001b[0m\u001b[0m\n\u001b[0m",
      "\u001b[1;31mKeyError\u001b[0m: 'degree'"
     ]
    }
   ],
   "source": [
    "#if key is not present it gives KeyError\n",
    "print(my_dict['degree'])"
   ]
  },
  {
   "cell_type": "code",
   "execution_count": 4,
   "metadata": {
    "ExecuteTime": {
     "end_time": "2021-02-06T12:10:12.452382Z",
     "start_time": "2021-02-06T12:10:12.441381Z"
    },
    "colab": {},
    "colab_type": "code",
    "id": "WNJMH4qp8YWo",
    "outputId": "f9a5a7e4-dc63-4c7d-dd77-b71ecb9e51fb"
   },
   "outputs": [
    {
     "name": "stdout",
     "output_type": "stream",
     "text": [
      "Agra\n"
     ]
    }
   ],
   "source": [
    "#another way of accessing key, for fatching value \n",
    "print(my_dict.get('address'))"
   ]
  },
  {
   "cell_type": "code",
   "execution_count": 5,
   "metadata": {
    "ExecuteTime": {
     "end_time": "2021-02-06T12:10:13.077598Z",
     "start_time": "2021-02-06T12:10:13.066031Z"
    },
    "colab": {},
    "colab_type": "code",
    "id": "fwrZjWaD8YWs",
    "outputId": "80d0fab3-fc6e-47c2-bb44-7678b2c6d287"
   },
   "outputs": [
    {
     "name": "stdout",
     "output_type": "stream",
     "text": [
      "None\n"
     ]
    }
   ],
   "source": [
    "#if key is not present it will give None using get method\n",
    "print(my_dict.get('degree'))"
   ]
  },
  {
   "cell_type": "markdown",
   "metadata": {
    "colab_type": "text",
    "id": "QVQG50dG8YWy"
   },
   "source": [
    "# Dict Add or Modify  Elements"
   ]
  },
  {
   "cell_type": "code",
   "execution_count": 6,
   "metadata": {
    "ExecuteTime": {
     "end_time": "2021-02-06T12:10:14.360953Z",
     "start_time": "2021-02-06T12:10:14.349937Z"
    },
    "colab": {},
    "colab_type": "code",
    "id": "Cg9LrSiL8YW0",
    "outputId": "035304a8-cc63-4bb2-d5ee-a58a22c19f30"
   },
   "outputs": [
    {
     "name": "stdout",
     "output_type": "stream",
     "text": [
      "{'name': 'RK', 'age': 27, 'address': 'Agra'}\n"
     ]
    }
   ],
   "source": [
    "my_dict = {'name': 'sharma', 'age': 27, 'address': 'Agra'}\n",
    "\n",
    "#update name \n",
    "my_dict['name'] = 'RK'\n",
    "\n",
    "print(my_dict)"
   ]
  },
  {
   "cell_type": "code",
   "execution_count": 7,
   "metadata": {
    "ExecuteTime": {
     "end_time": "2021-02-06T12:10:14.844863Z",
     "start_time": "2021-02-06T12:10:14.838457Z"
    },
    "colab": {},
    "colab_type": "code",
    "id": "CZ2yD3Yv8YW5",
    "outputId": "ee35a1c7-d8cd-4a80-8785-bdfffb0481cf"
   },
   "outputs": [
    {
     "name": "stdout",
     "output_type": "stream",
     "text": [
      "{'name': 'RK', 'age': 27, 'address': 'Agra', 'degree': 'PhD'}\n"
     ]
    }
   ],
   "source": [
    "#add new key\n",
    "my_dict['degree'] = 'PhD'\n",
    "\n",
    "print(my_dict)"
   ]
  },
  {
   "cell_type": "markdown",
   "metadata": {
    "colab_type": "text",
    "id": "JlbqO1N78YW8"
   },
   "source": [
    "# Dict Delete or Remove Element"
   ]
  },
  {
   "cell_type": "code",
   "execution_count": 8,
   "metadata": {
    "ExecuteTime": {
     "end_time": "2021-02-06T12:10:15.685666Z",
     "start_time": "2021-02-06T12:10:15.674803Z"
    },
    "colab": {},
    "colab_type": "code",
    "id": "8WJsHD9E8YW9",
    "outputId": "a186c3a8-e420-41e7-d112-fce1fc4ffffc"
   },
   "outputs": [
    {
     "name": "stdout",
     "output_type": "stream",
     "text": [
      "27\n",
      "{'name': 'sharma', 'address': 'Agra'}\n"
     ]
    }
   ],
   "source": [
    "#create a dictionary\n",
    "my_dict = {'name': 'sharma', 'age': 27, 'address': 'Agra'}\n",
    "\n",
    "#remove a particular item\n",
    "print(my_dict.pop('age'))\n",
    "\n",
    "print(my_dict)"
   ]
  },
  {
   "cell_type": "code",
   "execution_count": 9,
   "metadata": {
    "ExecuteTime": {
     "end_time": "2021-02-06T12:10:16.111648Z",
     "start_time": "2021-02-06T12:10:16.099630Z"
    },
    "colab": {},
    "colab_type": "code",
    "id": "l65nK-cQ8YXA",
    "outputId": "62583228-7758-4d6c-bf6c-76bda6c8df8b"
   },
   "outputs": [
    {
     "name": "stdout",
     "output_type": "stream",
     "text": [
      "{'name': 'sharma', 'age': 27}\n"
     ]
    }
   ],
   "source": [
    "my_dict = {'name': 'sharma', 'age': 27, 'address': 'Agra'}\n",
    "\n",
    "#remove an arbitarty key\n",
    "my_dict.popitem()\n",
    "\n",
    "print(my_dict)"
   ]
  },
  {
   "cell_type": "code",
   "execution_count": 10,
   "metadata": {
    "ExecuteTime": {
     "end_time": "2021-02-06T12:10:16.455963Z",
     "start_time": "2021-02-06T12:10:16.446424Z"
    },
    "colab": {},
    "colab_type": "code",
    "id": "TY12fl4Q8YXD",
    "outputId": "e70eed58-1ce8-4db9-9429-73483d77cb06"
   },
   "outputs": [
    {
     "name": "stdout",
     "output_type": "stream",
     "text": [
      "{3: 9, 4: 16, 5: 25}\n"
     ]
    }
   ],
   "source": [
    "squares = {2: 4, 3: 9, 4: 16, 5: 25}\n",
    "\n",
    "#delete particular key\n",
    "del squares[2]\n",
    "\n",
    "print(squares)"
   ]
  },
  {
   "cell_type": "code",
   "execution_count": 11,
   "metadata": {
    "ExecuteTime": {
     "end_time": "2021-02-06T12:10:16.833597Z",
     "start_time": "2021-02-06T12:10:16.825232Z"
    },
    "colab": {},
    "colab_type": "code",
    "id": "WaE9o6-j8YXG",
    "outputId": "3b26053a-8ce1-4da0-bc7d-8a019b20699c"
   },
   "outputs": [
    {
     "name": "stdout",
     "output_type": "stream",
     "text": [
      "{}\n"
     ]
    }
   ],
   "source": [
    "#remove all items\n",
    "squares.clear()\n",
    "\n",
    "print(squares)"
   ]
  },
  {
   "cell_type": "code",
   "execution_count": 12,
   "metadata": {
    "ExecuteTime": {
     "end_time": "2021-02-06T12:10:17.211435Z",
     "start_time": "2021-02-06T12:10:17.150882Z"
    },
    "colab": {},
    "colab_type": "code",
    "id": "LUrIAJo58YXK",
    "outputId": "8bc10a7e-15e8-461f-e743-41da6e57c898"
   },
   "outputs": [
    {
     "ename": "NameError",
     "evalue": "name 'squares' is not defined",
     "output_type": "error",
     "traceback": [
      "\u001b[1;31m---------------------------------------------------------------------------\u001b[0m",
      "\u001b[1;31mNameError\u001b[0m                                 Traceback (most recent call last)",
      "\u001b[1;32m<ipython-input-12-6fac7747ecad>\u001b[0m in \u001b[0;36m<module>\u001b[1;34m\u001b[0m\n\u001b[0;32m      4\u001b[0m \u001b[1;32mdel\u001b[0m \u001b[0msquares\u001b[0m\u001b[1;33m\u001b[0m\u001b[1;33m\u001b[0m\u001b[0m\n\u001b[0;32m      5\u001b[0m \u001b[1;33m\u001b[0m\u001b[0m\n\u001b[1;32m----> 6\u001b[1;33m \u001b[0mprint\u001b[0m\u001b[1;33m(\u001b[0m\u001b[0msquares\u001b[0m\u001b[1;33m)\u001b[0m \u001b[1;31m#NameError because dict is deleted\u001b[0m\u001b[1;33m\u001b[0m\u001b[1;33m\u001b[0m\u001b[0m\n\u001b[0m",
      "\u001b[1;31mNameError\u001b[0m: name 'squares' is not defined"
     ]
    }
   ],
   "source": [
    "squares = {2: 4, 3: 9, 4: 16, 5: 25}\n",
    "\n",
    "#delete dictionary itself\n",
    "del squares\n",
    "\n",
    "print(squares) #NameError because dict is deleted"
   ]
  },
  {
   "cell_type": "markdown",
   "metadata": {
    "colab_type": "text",
    "id": "umrKAvuz8YXP"
   },
   "source": [
    "# Dictionary Methods"
   ]
  },
  {
   "cell_type": "code",
   "execution_count": 13,
   "metadata": {
    "ExecuteTime": {
     "end_time": "2021-02-06T12:10:17.708087Z",
     "start_time": "2021-02-06T12:10:17.695181Z"
    },
    "colab": {},
    "colab_type": "code",
    "id": "pC6eM-Uz8YXQ",
    "outputId": "06a4c7f4-113c-44ac-a1fd-086511705807"
   },
   "outputs": [
    {
     "name": "stdout",
     "output_type": "stream",
     "text": [
      "{2: 4, 3: 9, 4: 16, 5: 25}\n"
     ]
    }
   ],
   "source": [
    "squares = {2: 4, 3: 9, 4: 16, 5: 25}\n",
    "\n",
    "my_dict = squares.copy()\n",
    "print(my_dict)"
   ]
  },
  {
   "cell_type": "code",
   "execution_count": 14,
   "metadata": {
    "ExecuteTime": {
     "end_time": "2021-02-06T12:10:18.052272Z",
     "start_time": "2021-02-06T12:10:18.025245Z"
    }
   },
   "outputs": [
    {
     "name": "stdout",
     "output_type": "stream",
     "text": [
      "1533896883136\n",
      "1533874349504\n"
     ]
    },
    {
     "data": {
      "text/plain": [
       "1533896883136"
      ]
     },
     "execution_count": 14,
     "metadata": {},
     "output_type": "execute_result"
    }
   ],
   "source": [
    "print(id(squares))\n",
    "print(id(my_dict))\n",
    "x=squares\n",
    "id(x)\n"
   ]
  },
  {
   "cell_type": "code",
   "execution_count": 15,
   "metadata": {
    "ExecuteTime": {
     "end_time": "2021-02-06T12:10:18.413305Z",
     "start_time": "2021-02-06T12:10:18.404344Z"
    },
    "colab": {},
    "colab_type": "code",
    "id": "-wW9T7Id8YXW",
    "outputId": "49fac564-9a97-4107-832b-1ab7d4da03dc"
   },
   "outputs": [
    {
     "name": "stdout",
     "output_type": "stream",
     "text": [
      "dict_items([(2, 4), (3, 9), (4, 16), (5, 25)])\n"
     ]
    }
   ],
   "source": [
    "subjects = {2:4, 3:9, 4:16, 5:25}\n",
    "print(subjects.items()) #return a new view of the dictionary items (key, value)"
   ]
  },
  {
   "cell_type": "code",
   "execution_count": 16,
   "metadata": {
    "ExecuteTime": {
     "end_time": "2021-02-06T12:10:18.726183Z",
     "start_time": "2021-02-06T12:10:18.715089Z"
    }
   },
   "outputs": [
    {
     "data": {
      "text/plain": [
       "dict_items"
      ]
     },
     "execution_count": 16,
     "metadata": {},
     "output_type": "execute_result"
    }
   ],
   "source": [
    "type(subjects.items())"
   ]
  },
  {
   "cell_type": "code",
   "execution_count": 17,
   "metadata": {
    "ExecuteTime": {
     "end_time": "2021-02-06T12:10:19.085740Z",
     "start_time": "2021-02-06T12:10:19.075822Z"
    },
    "colab": {},
    "colab_type": "code",
    "id": "YMjrhvUr8YXZ",
    "outputId": "1a1eceaf-43f1-433e-95fc-dafb9087d2c0"
   },
   "outputs": [
    {
     "name": "stdout",
     "output_type": "stream",
     "text": [
      "dict_keys([2, 3, 4, 5])\n"
     ]
    }
   ],
   "source": [
    "subjects = {2:4, 3:9, 4:16, 5:25}\n",
    "print(subjects.keys()) #return a new view of the dictionary keys"
   ]
  },
  {
   "cell_type": "code",
   "execution_count": 18,
   "metadata": {
    "ExecuteTime": {
     "end_time": "2021-02-06T12:10:19.413842Z",
     "start_time": "2021-02-06T12:10:19.401873Z"
    },
    "colab": {},
    "colab_type": "code",
    "id": "B2AU0n-Z8YXd",
    "outputId": "358facae-79f4-4e30-8e6f-8c388e0441af"
   },
   "outputs": [
    {
     "name": "stdout",
     "output_type": "stream",
     "text": [
      "dict_values([4, 9, 16, 25])\n"
     ]
    }
   ],
   "source": [
    "subjects = {2:4, 3:9, 4:16, 5:25}\n",
    "print(subjects.values()) #return a new view of the dictionary values"
   ]
  }
 ],
 "metadata": {
  "colab": {
   "name": "2.5.ipynb",
   "provenance": []
  },
  "hide_input": false,
  "kernelspec": {
   "display_name": "Python 3",
   "language": "python",
   "name": "python3"
  },
  "language_info": {
   "codemirror_mode": {
    "name": "ipython",
    "version": 3
   },
   "file_extension": ".py",
   "mimetype": "text/x-python",
   "name": "python",
   "nbconvert_exporter": "python",
   "pygments_lexer": "ipython3",
   "version": "3.8.3"
  },
  "toc": {
   "base_numbering": 1,
   "nav_menu": {},
   "number_sections": true,
   "sideBar": true,
   "skip_h1_title": false,
   "title_cell": "Table of Contents",
   "title_sidebar": "Contents",
   "toc_cell": false,
   "toc_position": {},
   "toc_section_display": true,
   "toc_window_display": true
  },
  "varInspector": {
   "cols": {
    "lenName": 16,
    "lenType": 16,
    "lenVar": 40
   },
   "kernels_config": {
    "python": {
     "delete_cmd_postfix": "",
     "delete_cmd_prefix": "del ",
     "library": "var_list.py",
     "varRefreshCmd": "print(var_dic_list())"
    },
    "r": {
     "delete_cmd_postfix": ") ",
     "delete_cmd_prefix": "rm(",
     "library": "var_list.r",
     "varRefreshCmd": "cat(var_dic_list()) "
    }
   },
   "types_to_exclude": [
    "module",
    "function",
    "builtin_function_or_method",
    "instance",
    "_Feature"
   ],
   "window_display": false
  }
 },
 "nbformat": 4,
 "nbformat_minor": 1
}
