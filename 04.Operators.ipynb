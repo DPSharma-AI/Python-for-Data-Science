{
 "cells": [
  {
   "cell_type": "markdown",
   "metadata": {},
   "source": [
    "# Operators"
   ]
  },
  {
   "cell_type": "markdown",
   "metadata": {},
   "source": [
    "Operators are special symbols in Python that carry out arithmetic or logical computation/Operation. The value on which the operator operates is called the operand."
   ]
  },
  {
   "cell_type": "markdown",
   "metadata": {},
   "source": [
    "# Operator Types"
   ]
  },
  {
   "cell_type": "markdown",
   "metadata": {},
   "source": [
    "- Arithmetic operators\n",
    "    \n",
    "- Comparison (Relational) operators\n",
    "\n",
    "- Logical (Boolean) operators\n",
    "\n",
    "- Bitwise operators\n",
    "\n",
    "- Assignment operators\n",
    "\n",
    "- Identity Operators\n",
    "\n",
    "- MemberShip Operators"
   ]
  },
  {
   "cell_type": "markdown",
   "metadata": {},
   "source": [
    "## Arithmetic Operators"
   ]
  },
  {
   "cell_type": "markdown",
   "metadata": {},
   "source": [
    "Arithmetic operators are used to perform mathematical operations like addition, subtraction, multiplication etc."
   ]
  },
  {
   "cell_type": "markdown",
   "metadata": {},
   "source": [
    "    + , -, *, /, %, //, **  are arithmetic operators\n",
    "    \n",
    "    - / operator always performs floating point arithmetic. Hence it will always returns float value.\n",
    "    \n",
    "    - Floor division (//) can perform both floating point and integral arithmetic. If arguments are int type then result \n",
    "      is int type. If atleast one argument is float type then result is float type.\n",
    "    \n",
    "    - We can use +,* operators for str type also. If we want to use + operator for str type then it is compulsory that \n",
    "      both arguments should be str type only,otherwise we will get error.\n",
    "     \n",
    "    - If we use * operator for str type then compulsory one argument should be int and other argument should be str type.\n",
    "    \n",
    "    - For any number x, x/0 and x%0 always raises \"ZeroDivisionError\""
   ]
  },
  {
   "cell_type": "markdown",
   "metadata": {},
   "source": [
    "Example:"
   ]
  },
  {
   "cell_type": "code",
   "execution_count": 3,
   "metadata": {
    "ExecuteTime": {
     "end_time": "2021-02-06T12:13:48.124209Z",
     "start_time": "2021-02-06T12:13:48.104452Z"
    }
   },
   "outputs": [
    {
     "name": "stdout",
     "output_type": "stream",
     "text": [
      "0.5\n",
      "4.0\n",
      "0\n",
      "4\n",
      "4.0\n"
     ]
    }
   ],
   "source": [
    "x, y = 10, 20\n",
    "\n",
    "# #addition\n",
    "# print(x + y)\n",
    "\n",
    "# #subtraction(-)\n",
    "# print(x -y)\n",
    "# #multiplication(*)\n",
    "# print(x * y)\n",
    "\n",
    "# #division(/)\n",
    "print(x / y)\n",
    "print(8/2)\n",
    "# #modulo division (%)\n",
    "# print(x % y)\n",
    "\n",
    "# #Floor Division (//)\n",
    "print(x // y)\n",
    "print(9//2)\n",
    "print(9.0//2)\n",
    "\n",
    "# #Exponent (**)\n",
    "# print(x**y)"
   ]
  },
  {
   "cell_type": "markdown",
   "metadata": {},
   "source": [
    "## Comparison Operators OR Relational Operators"
   ]
  },
  {
   "cell_type": "markdown",
   "metadata": {},
   "source": [
    "Comparison operators are used to compare values. It either returns **True or False** according to the condition."
   ]
  },
  {
   "cell_type": "markdown",
   "metadata": {},
   "source": [
    "    >, <, ==, !=, >=, <= are comparision operators"
   ]
  },
  {
   "cell_type": "code",
   "execution_count": 2,
   "metadata": {
    "ExecuteTime": {
     "end_time": "2021-02-06T10:38:10.569364Z",
     "start_time": "2021-02-06T10:38:10.463967Z"
    }
   },
   "outputs": [
    {
     "name": "stdout",
     "output_type": "stream",
     "text": [
      "True\n"
     ]
    }
   ],
   "source": [
    "a, b = 10, 20         \n",
    "\n",
    "print(a < b)  #check a is less than b\n",
    "\n",
    "#check a is greater than b\n",
    "\n",
    "#check a is equal to b\n",
    "\n",
    "#check a is not equal to b (!=)\n",
    "\n",
    "#check a greater than or equal to b\n",
    "\n",
    "#check a less than or equal to b\n"
   ]
  },
  {
   "cell_type": "markdown",
   "metadata": {},
   "source": [
    "## Logical Operators"
   ]
  },
  {
   "cell_type": "markdown",
   "metadata": {},
   "source": [
    "Logical operators are  **and, or, not** operators.\n",
    "### For boolean Types Behaviour:\n",
    "- and --->If both arguments are True then only result is True.\n",
    "- or ---> If atleast one arugemnt is True then result is True.\n",
    "- not --->Complement\n",
    "- True and False --->False\n",
    "- True or False --->True\n",
    "- not False --->True\n",
    "\n",
    "### For non-boolean Types Behaviour:\n",
    "- 0 means False\n",
    "- non-zero means True\n",
    "- empty string is always treated as False\n",
    "\n",
    "#### x and y:\n",
    "- If x is evaluates to false return x otherwise return y\n",
    "- Eg:\n",
    "     - 10 and 20 ----> 20\n",
    "     - 0 and 20  ----> 0\n",
    "- If first argument is zero then result is zero otherwise result is y\n",
    "\n",
    "#### x or y:\n",
    "- If x evaluates to True then result is x otherwise result is y\n",
    "- Eg:\n",
    "     - 10 or 20 ----> 10\n",
    "     - 0  or  20  ----> 20\n",
    "\n",
    "#### not x:\n",
    "- If x is evalutates to False then result is True otherwise False\n",
    "- Eg:\n",
    "      - not 10 ----> False\n",
    "      - not 0 ---->  True\n",
    "\n"
   ]
  },
  {
   "cell_type": "code",
   "execution_count": 3,
   "metadata": {
    "ExecuteTime": {
     "end_time": "2021-02-06T10:38:10.678295Z",
     "start_time": "2021-02-06T10:38:10.574915Z"
    }
   },
   "outputs": [
    {
     "name": "stdout",
     "output_type": "stream",
     "text": [
      "False\n"
     ]
    }
   ],
   "source": [
    "a, b = True, False\n",
    "\n",
    "#print a and b\n",
    "print(a and b)\n",
    "\n",
    "#print a or b\n",
    "\n",
    "#print not b\n"
   ]
  },
  {
   "cell_type": "markdown",
   "metadata": {},
   "source": [
    "## Bitwise operators"
   ]
  },
  {
   "cell_type": "markdown",
   "metadata": {},
   "source": [
    "Bitwise operators act on operands as if they were string of binary digits. It operates bit by bit.\n",
    "\n",
    "- These operators are applicable only for int and boolean types.\n",
    "- By mistake if we are trying to apply for any other type then we will get Error."
   ]
  },
  {
   "cell_type": "markdown",
   "metadata": {},
   "source": [
    "    &,  |,  ~,  ^,  >>,  << are Bitwise operators"
   ]
  },
  {
   "cell_type": "code",
   "execution_count": 2,
   "metadata": {
    "ExecuteTime": {
     "end_time": "2021-05-22T02:20:20.168629Z",
     "start_time": "2021-05-22T02:20:20.152672Z"
    }
   },
   "outputs": [
    {
     "name": "stdout",
     "output_type": "stream",
     "text": [
      "-11\n",
      "5\n"
     ]
    }
   ],
   "source": [
    "a, b = 10, 4\n",
    "\n",
    "# #Bitwise AND\n",
    "# print(a & b)\n",
    "\n",
    "# #Bitwise OR\n",
    "# print(a | b)\n",
    "\n",
    "#Bitwise NOT\n",
    "print(~a)\n",
    "\n",
    "# #Bitwise XOR\n",
    "# print(a ^ b)\n",
    "\n",
    "\n",
    "# #Bitwise rightshift\n",
    "print(a>>1)\n",
    "\n",
    "\n",
    "# #Bitwise Leftshift\n",
    "# print(a<<2)"
   ]
  },
  {
   "cell_type": "markdown",
   "metadata": {},
   "source": [
    "## Assignment operators"
   ]
  },
  {
   "cell_type": "markdown",
   "metadata": {},
   "source": [
    "Assignment operators are used in Python to assign values to variables.\n",
    "\n",
    "a = 5 is a simple assignment operator that assigns the value 5 on the right to the variable a on the left."
   ]
  },
  {
   "cell_type": "markdown",
   "metadata": {},
   "source": [
    "    =,  +=,  -=,  *=,  /=,  %=,  //=,  **=, &=,  |=,  ^=,  >>=,  <<= are Assignment operators"
   ]
  },
  {
   "cell_type": "code",
   "execution_count": 7,
   "metadata": {
    "ExecuteTime": {
     "end_time": "2021-02-06T10:38:10.880866Z",
     "start_time": "2021-02-06T10:38:10.797188Z"
    }
   },
   "outputs": [
    {
     "name": "stdout",
     "output_type": "stream",
     "text": [
      "20\n"
     ]
    },
    {
     "data": {
      "text/plain": [
       "104857600000000000000000000"
      ]
     },
     "execution_count": 7,
     "metadata": {},
     "output_type": "execute_result"
    }
   ],
   "source": [
    "a = 10\n",
    "\n",
    "a += 10         #add AND\n",
    "print(a)\n",
    "\n",
    "#subtract AND (-=)\n",
    "\n",
    "#Multiply AND (*=)\n",
    "\n",
    "#Divide AND (/=)\n",
    "\n",
    "#Modulus AND (%=)\n",
    "\n",
    "#Floor Division (//=)\n",
    "\n",
    "#Exponent AND (**=)\n",
    "a**=a\n",
    "a"
   ]
  },
  {
   "cell_type": "markdown",
   "metadata": {},
   "source": [
    "## Identity Operators"
   ]
  },
  {
   "cell_type": "markdown",
   "metadata": {},
   "source": [
    "**is and is not** are the identity operators in Python. \n",
    "\n",
    "They are used to check if two values (or variables) are located on the same part of the memory."
   ]
  },
  {
   "cell_type": "code",
   "execution_count": 6,
   "metadata": {
    "ExecuteTime": {
     "end_time": "2021-02-06T10:38:10.973985Z",
     "start_time": "2021-02-06T10:38:10.886388Z"
    }
   },
   "outputs": [
    {
     "name": "stdout",
     "output_type": "stream",
     "text": [
      "True\n"
     ]
    }
   ],
   "source": [
    "a = 5\n",
    "b = 5\n",
    "print(a is b)    #5 is object created once both a and b points to same object\n",
    "\n",
    "#check is not"
   ]
  },
  {
   "cell_type": "code",
   "execution_count": 7,
   "metadata": {
    "ExecuteTime": {
     "end_time": "2021-02-06T10:38:11.067911Z",
     "start_time": "2021-02-06T10:38:10.985954Z"
    }
   },
   "outputs": [
    {
     "name": "stdout",
     "output_type": "stream",
     "text": [
      "False\n"
     ]
    }
   ],
   "source": [
    "l1 = [1, 2, 3]\n",
    "l2 = [1, 2, 3]\n",
    "print(l1 is l2)"
   ]
  },
  {
   "cell_type": "code",
   "execution_count": 8,
   "metadata": {
    "ExecuteTime": {
     "end_time": "2021-02-06T10:38:11.160349Z",
     "start_time": "2021-02-06T10:38:11.073851Z"
    }
   },
   "outputs": [
    {
     "name": "stdout",
     "output_type": "stream",
     "text": [
      "False\n"
     ]
    }
   ],
   "source": [
    "s1 = \"Aditi\"\n",
    "s2 = \"Aditi\"\n",
    "print(s1 is not s2)"
   ]
  },
  {
   "cell_type": "markdown",
   "metadata": {},
   "source": [
    "## MemberShip Operators"
   ]
  },
  {
   "cell_type": "markdown",
   "metadata": {},
   "source": [
    "**in and not in** are the membership operators in Python. \n",
    "    \n",
    "They are used to test whether a value or variable is found in a sequence (string, list, tuple, set and   dictionary)."
   ]
  },
  {
   "cell_type": "code",
   "execution_count": 9,
   "metadata": {
    "ExecuteTime": {
     "end_time": "2021-02-06T10:38:11.239381Z",
     "start_time": "2021-02-06T10:38:11.168181Z"
    }
   },
   "outputs": [
    {
     "name": "stdout",
     "output_type": "stream",
     "text": [
      "True\n"
     ]
    }
   ],
   "source": [
    "lst = [1, 2, 3, 4]\n",
    "print(1 in lst)       #check 1 is present in a given list or not\n",
    "\n",
    "#check 5 is present in a given list\n"
   ]
  },
  {
   "cell_type": "code",
   "execution_count": 10,
   "metadata": {
    "ExecuteTime": {
     "end_time": "2021-02-06T10:38:11.332594Z",
     "start_time": "2021-02-06T10:38:11.245363Z"
    }
   },
   "outputs": [
    {
     "name": "stdout",
     "output_type": "stream",
     "text": [
      "True\n"
     ]
    }
   ],
   "source": [
    "d = {1: \"a\", 2: \"b\"}\n",
    "print(1 in d)"
   ]
  },
  {
   "cell_type": "code",
   "execution_count": 7,
   "metadata": {
    "ExecuteTime": {
     "end_time": "2021-02-09T15:11:45.007849Z",
     "start_time": "2021-02-09T15:11:44.992510Z"
    }
   },
   "outputs": [],
   "source": [
    "a=10"
   ]
  }
 ],
 "metadata": {
  "hide_input": false,
  "kernelspec": {
   "display_name": "Python 3",
   "language": "python",
   "name": "python3"
  },
  "language_info": {
   "codemirror_mode": {
    "name": "ipython",
    "version": 3
   },
   "file_extension": ".py",
   "mimetype": "text/x-python",
   "name": "python",
   "nbconvert_exporter": "python",
   "pygments_lexer": "ipython3",
   "version": "3.8.3"
  },
  "toc": {
   "base_numbering": 1,
   "nav_menu": {},
   "number_sections": true,
   "sideBar": true,
   "skip_h1_title": false,
   "title_cell": "Table of Contents",
   "title_sidebar": "Contents",
   "toc_cell": false,
   "toc_position": {
    "height": "calc(100% - 180px)",
    "left": "10px",
    "top": "150px",
    "width": "191.188px"
   },
   "toc_section_display": true,
   "toc_window_display": true
  },
  "varInspector": {
   "cols": {
    "lenName": 16,
    "lenType": 16,
    "lenVar": 40
   },
   "kernels_config": {
    "python": {
     "delete_cmd_postfix": "",
     "delete_cmd_prefix": "del ",
     "library": "var_list.py",
     "varRefreshCmd": "print(var_dic_list())"
    },
    "r": {
     "delete_cmd_postfix": ") ",
     "delete_cmd_prefix": "rm(",
     "library": "var_list.r",
     "varRefreshCmd": "cat(var_dic_list()) "
    }
   },
   "types_to_exclude": [
    "module",
    "function",
    "builtin_function_or_method",
    "instance",
    "_Feature"
   ],
   "window_display": false
  }
 },
 "nbformat": 4,
 "nbformat_minor": 2
}
